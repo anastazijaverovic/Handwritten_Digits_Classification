{
 "cells": [
  {
   "cell_type": "markdown",
   "id": "7bdae6df",
   "metadata": {
    "papermill": {
     "duration": 0.017194,
     "end_time": "2021-09-29T18:17:35.742155",
     "exception": false,
     "start_time": "2021-09-29T18:17:35.724961",
     "status": "completed"
    },
    "tags": []
   },
   "source": [
    "# About the dataset - Framing the Problem\n",
    "****"
   ]
  },
  {
   "cell_type": "markdown",
   "id": "781861af",
   "metadata": {
    "papermill": {
     "duration": 0.016232,
     "end_time": "2021-09-29T18:17:35.775030",
     "exception": false,
     "start_time": "2021-09-29T18:17:35.758798",
     "status": "completed"
    },
    "tags": []
   },
   "source": [
    "This dataset contains 70,000 small images of handwritten digits. Each digit is labeled. I've decided to tackle this well-known classification problem to get the better understanding of the underlying data and to practice some classification algorithms."
   ]
  },
  {
   "cell_type": "markdown",
   "id": "2dfbe3ff",
   "metadata": {
    "papermill": {
     "duration": 0.015791,
     "end_time": "2021-09-29T18:17:35.807268",
     "exception": false,
     "start_time": "2021-09-29T18:17:35.791477",
     "status": "completed"
    },
    "tags": []
   },
   "source": [
    "# Importing the Libraries\n",
    "****"
   ]
  },
  {
   "cell_type": "code",
   "execution_count": 1,
   "id": "a6d0d6bc",
   "metadata": {
    "execution": {
     "iopub.execute_input": "2021-09-29T18:17:35.844381Z",
     "iopub.status.busy": "2021-09-29T18:17:35.843214Z",
     "iopub.status.idle": "2021-09-29T18:17:35.854214Z",
     "shell.execute_reply": "2021-09-29T18:17:35.854758Z",
     "shell.execute_reply.started": "2021-09-29T18:01:49.690771Z"
    },
    "papermill": {
     "duration": 0.031222,
     "end_time": "2021-09-29T18:17:35.855067",
     "exception": false,
     "start_time": "2021-09-29T18:17:35.823845",
     "status": "completed"
    },
    "tags": []
   },
   "outputs": [],
   "source": [
    "# This Python 3 environment comes with many helpful analytics libraries installed\n",
    "# It is defined by the kaggle/python Docker image: https://github.com/kaggle/docker-python\n",
    "# For example, here's several helpful packages to load\n",
    "\n",
    "import numpy as np # linear algebra\n",
    "import pandas as pd # data processing, CSV file I/O (e.g. pd.read_csv)\n",
    "import matplotlib as mpl\n",
    "import matplotlib.pyplot as plt"
   ]
  },
  {
   "cell_type": "markdown",
   "id": "a7842822",
   "metadata": {
    "papermill": {
     "duration": 0.016134,
     "end_time": "2021-09-29T18:17:35.887752",
     "exception": false,
     "start_time": "2021-09-29T18:17:35.871618",
     "status": "completed"
    },
    "tags": []
   },
   "source": [
    "# Get the Data\n",
    "****"
   ]
  },
  {
   "cell_type": "code",
   "execution_count": 2,
   "id": "f84bb540",
   "metadata": {
    "execution": {
     "iopub.execute_input": "2021-09-29T18:17:35.925204Z",
     "iopub.status.busy": "2021-09-29T18:17:35.924554Z",
     "iopub.status.idle": "2021-09-29T18:18:22.527634Z",
     "shell.execute_reply": "2021-09-29T18:18:22.528144Z",
     "shell.execute_reply.started": "2021-09-29T18:01:49.718439Z"
    },
    "papermill": {
     "duration": 46.624122,
     "end_time": "2021-09-29T18:18:22.528320",
     "exception": false,
     "start_time": "2021-09-29T18:17:35.904198",
     "status": "completed"
    },
    "tags": []
   },
   "outputs": [
    {
     "data": {
      "text/plain": [
       "dict_keys(['data', 'target', 'frame', 'categories', 'feature_names', 'target_names', 'DESCR', 'details', 'url'])"
      ]
     },
     "execution_count": 2,
     "metadata": {},
     "output_type": "execute_result"
    }
   ],
   "source": [
    "from sklearn.datasets import fetch_openml\n",
    "mnist = fetch_openml('mnist_784', version = 1)\n",
    "mnist.keys()"
   ]
  },
  {
   "cell_type": "markdown",
   "id": "1bbcb538",
   "metadata": {
    "papermill": {
     "duration": 0.016428,
     "end_time": "2021-09-29T18:18:22.561737",
     "exception": false,
     "start_time": "2021-09-29T18:18:22.545309",
     "status": "completed"
    },
    "tags": []
   },
   "source": [
    "# Explore the Data\n",
    "****"
   ]
  },
  {
   "cell_type": "code",
   "execution_count": 3,
   "id": "ce4d728d",
   "metadata": {
    "execution": {
     "iopub.execute_input": "2021-09-29T18:18:22.600793Z",
     "iopub.status.busy": "2021-09-29T18:18:22.599979Z",
     "iopub.status.idle": "2021-09-29T18:18:22.603143Z",
     "shell.execute_reply": "2021-09-29T18:18:22.603710Z",
     "shell.execute_reply.started": "2021-09-29T18:02:38.494095Z"
    },
    "papermill": {
     "duration": 0.025465,
     "end_time": "2021-09-29T18:18:22.603894",
     "exception": false,
     "start_time": "2021-09-29T18:18:22.578429",
     "status": "completed"
    },
    "tags": []
   },
   "outputs": [
    {
     "name": "stdout",
     "output_type": "stream",
     "text": [
      "(70000, 784)\n",
      "(70000,)\n"
     ]
    }
   ],
   "source": [
    "X,y = mnist[\"data\"], mnist[\"target\"]\n",
    "print(X.shape)\n",
    "print(y.shape)"
   ]
  },
  {
   "cell_type": "markdown",
   "id": "a3898dd4",
   "metadata": {
    "papermill": {
     "duration": 0.017483,
     "end_time": "2021-09-29T18:18:22.639596",
     "exception": false,
     "start_time": "2021-09-29T18:18:22.622113",
     "status": "completed"
    },
    "tags": []
   },
   "source": [
    "X - vector of features\n",
    "\n",
    "y - label"
   ]
  },
  {
   "cell_type": "markdown",
   "id": "404ddf58",
   "metadata": {
    "papermill": {
     "duration": 0.01767,
     "end_time": "2021-09-29T18:18:22.675168",
     "exception": false,
     "start_time": "2021-09-29T18:18:22.657498",
     "status": "completed"
    },
    "tags": []
   },
   "source": [
    "Each image has 784 features (28x28 pixels, each feature - pixel's intensity)"
   ]
  },
  {
   "cell_type": "markdown",
   "id": "30e4418c",
   "metadata": {
    "papermill": {
     "duration": 0.017419,
     "end_time": "2021-09-29T18:18:22.710153",
     "exception": false,
     "start_time": "2021-09-29T18:18:22.692734",
     "status": "completed"
    },
    "tags": []
   },
   "source": [
    "Getting a look into one of the images:"
   ]
  },
  {
   "cell_type": "code",
   "execution_count": 4,
   "id": "67424e9c",
   "metadata": {
    "execution": {
     "iopub.execute_input": "2021-09-29T18:18:22.768633Z",
     "iopub.status.busy": "2021-09-29T18:18:22.759955Z",
     "iopub.status.idle": "2021-09-29T18:18:22.993316Z",
     "shell.execute_reply": "2021-09-29T18:18:22.993792Z",
     "shell.execute_reply.started": "2021-09-29T18:02:38.502001Z"
    },
    "papermill": {
     "duration": 0.265919,
     "end_time": "2021-09-29T18:18:22.993975",
     "exception": false,
     "start_time": "2021-09-29T18:18:22.728056",
     "status": "completed"
    },
    "tags": []
   },
   "outputs": [
    {
     "name": "stdout",
     "output_type": "stream",
     "text": [
      "Image: \n"
     ]
    },
    {
     "data": {
      "text/plain": [
       "<matplotlib.image.AxesImage at 0x7f9656988a90>"
      ]
     },
     "execution_count": 4,
     "metadata": {},
     "output_type": "execute_result"
    },
    {
     "data": {
      "image/png": "[encoded data removed]",
      "text/plain": [
       "<Figure size 432x288 with 1 Axes>"
      ]
     },
     "metadata": {
      "needs_background": "light"
     },
     "output_type": "display_data"
    }
   ],
   "source": [
    "print(\"Image: \")\n",
    "plt.imshow(X[0].reshape(28, 28), cmap = \"binary\")"
   ]
  },
  {
   "cell_type": "code",
   "execution_count": 5,
   "id": "a7406b6c",
   "metadata": {
    "execution": {
     "iopub.execute_input": "2021-09-29T18:18:23.037093Z",
     "iopub.status.busy": "2021-09-29T18:18:23.036437Z",
     "iopub.status.idle": "2021-09-29T18:18:23.043533Z",
     "shell.execute_reply": "2021-09-29T18:18:23.043990Z",
     "shell.execute_reply.started": "2021-09-29T18:02:38.704619Z"
    },
    "papermill": {
     "duration": 0.031823,
     "end_time": "2021-09-29T18:18:23.044166",
     "exception": false,
     "start_time": "2021-09-29T18:18:23.012343",
     "status": "completed"
    },
    "tags": []
   },
   "outputs": [
    {
     "name": "stdout",
     "output_type": "stream",
     "text": [
      "Label: \n"
     ]
    },
    {
     "data": {
      "text/plain": [
       "'5'"
      ]
     },
     "execution_count": 5,
     "metadata": {},
     "output_type": "execute_result"
    }
   ],
   "source": [
    "print(\"Label: \")\n",
    "y[0]"
   ]
  },
  {
   "cell_type": "code",
   "execution_count": 6,
   "id": "85dfd00a",
   "metadata": {
    "execution": {
     "iopub.execute_input": "2021-09-29T18:18:23.095768Z",
     "iopub.status.busy": "2021-09-29T18:18:23.095083Z",
     "iopub.status.idle": "2021-09-29T18:18:23.098072Z",
     "shell.execute_reply": "2021-09-29T18:18:23.097587Z",
     "shell.execute_reply.started": "2021-09-29T18:02:38.713816Z"
    },
    "papermill": {
     "duration": 0.035154,
     "end_time": "2021-09-29T18:18:23.098212",
     "exception": false,
     "start_time": "2021-09-29T18:18:23.063058",
     "status": "completed"
    },
    "tags": []
   },
   "outputs": [],
   "source": [
    "y = y.astype(np.uint8)"
   ]
  },
  {
   "cell_type": "code",
   "execution_count": 7,
   "id": "7816615f",
   "metadata": {
    "execution": {
     "iopub.execute_input": "2021-09-29T18:18:23.141421Z",
     "iopub.status.busy": "2021-09-29T18:18:23.140648Z",
     "iopub.status.idle": "2021-09-29T18:18:23.143511Z",
     "shell.execute_reply": "2021-09-29T18:18:23.142933Z",
     "shell.execute_reply.started": "2021-09-29T18:02:38.731003Z"
    },
    "papermill": {
     "duration": 0.026472,
     "end_time": "2021-09-29T18:18:23.143650",
     "exception": false,
     "start_time": "2021-09-29T18:18:23.117178",
     "status": "completed"
    },
    "tags": []
   },
   "outputs": [],
   "source": [
    "X_train, X_test, y_train, y_test = X[:60000], X[60000:], y[:60000], y[60000:]"
   ]
  },
  {
   "cell_type": "markdown",
   "id": "df4ee525",
   "metadata": {
    "papermill": {
     "duration": 0.018537,
     "end_time": "2021-09-29T18:18:23.181468",
     "exception": false,
     "start_time": "2021-09-29T18:18:23.162931",
     "status": "completed"
    },
    "tags": []
   },
   "source": [
    "# Train the Model\n",
    "****"
   ]
  },
  {
   "cell_type": "markdown",
   "id": "2602b473",
   "metadata": {
    "papermill": {
     "duration": 0.018463,
     "end_time": "2021-09-29T18:18:23.218775",
     "exception": false,
     "start_time": "2021-09-29T18:18:23.200312",
     "status": "completed"
    },
    "tags": []
   },
   "source": [
    "Training the binary classifier (just for practice!) to get the information if the number on the photo is number 5 or not. Creating the variable - **target vector** that will be true for all 5s:"
   ]
  },
  {
   "cell_type": "code",
   "execution_count": 8,
   "id": "0a3c15cd",
   "metadata": {
    "execution": {
     "iopub.execute_input": "2021-09-29T18:18:23.260081Z",
     "iopub.status.busy": "2021-09-29T18:18:23.259464Z",
     "iopub.status.idle": "2021-09-29T18:18:23.262796Z",
     "shell.execute_reply": "2021-09-29T18:18:23.263294Z",
     "shell.execute_reply.started": "2021-09-29T18:10:22.320797Z"
    },
    "papermill": {
     "duration": 0.025453,
     "end_time": "2021-09-29T18:18:23.263469",
     "exception": false,
     "start_time": "2021-09-29T18:18:23.238016",
     "status": "completed"
    },
    "tags": []
   },
   "outputs": [],
   "source": [
    "y_train_5 = (y_train == 5)\n",
    "y_test_5 = (y_test == 5)"
   ]
  },
  {
   "cell_type": "code",
   "execution_count": 9,
   "id": "8df45243",
   "metadata": {
    "execution": {
     "iopub.execute_input": "2021-09-29T18:18:23.305675Z",
     "iopub.status.busy": "2021-09-29T18:18:23.303976Z",
     "iopub.status.idle": "2021-09-29T18:18:37.815819Z",
     "shell.execute_reply": "2021-09-29T18:18:37.815323Z",
     "shell.execute_reply.started": "2021-09-29T18:12:21.495585Z"
    },
    "papermill": {
     "duration": 14.53361,
     "end_time": "2021-09-29T18:18:37.815961",
     "exception": false,
     "start_time": "2021-09-29T18:18:23.282351",
     "status": "completed"
    },
    "tags": []
   },
   "outputs": [
    {
     "data": {
      "text/plain": [
       "array([False])"
      ]
     },
     "execution_count": 9,
     "metadata": {},
     "output_type": "execute_result"
    }
   ],
   "source": [
    "from sklearn.linear_model import SGDClassifier\n",
    "classifier = SGDClassifier(random_state = 0)\n",
    "\n",
    "classifier.fit(X_train, y_train_5)\n",
    "\n",
    "classifier.predict([X[0]])"
   ]
  },
  {
   "cell_type": "markdown",
   "id": "aaece2e6",
   "metadata": {
    "papermill": {
     "duration": 0.018857,
     "end_time": "2021-09-29T18:18:37.853819",
     "exception": false,
     "start_time": "2021-09-29T18:18:37.834962",
     "status": "completed"
    },
    "tags": []
   },
   "source": [
    "# Measuring Performance\n",
    "****"
   ]
  },
  {
   "cell_type": "markdown",
   "id": "0c16938b",
   "metadata": {
    "papermill": {
     "duration": 0.018956,
     "end_time": "2021-09-29T18:18:37.892417",
     "exception": false,
     "start_time": "2021-09-29T18:18:37.873461",
     "status": "completed"
    },
    "tags": []
   },
   "source": [
    "**Confusion Matrix**"
   ]
  },
  {
   "cell_type": "markdown",
   "id": "15077136",
   "metadata": {
    "papermill": {
     "duration": 0.019519,
     "end_time": "2021-09-29T18:18:37.931136",
     "exception": false,
     "start_time": "2021-09-29T18:18:37.911617",
     "status": "completed"
    },
    "tags": []
   },
   "source": [
    "**cross_val_predict** function performs K-fold cross-validation and returns the predictions made on each test fold"
   ]
  },
  {
   "cell_type": "code",
   "execution_count": 10,
   "id": "ab6a44e4",
   "metadata": {
    "execution": {
     "iopub.execute_input": "2021-09-29T18:18:37.975950Z",
     "iopub.status.busy": "2021-09-29T18:18:37.974998Z",
     "iopub.status.idle": "2021-09-29T18:19:12.733122Z",
     "shell.execute_reply": "2021-09-29T18:19:12.733849Z",
     "shell.execute_reply.started": "2021-09-29T18:15:56.181517Z"
    },
    "papermill": {
     "duration": 34.783215,
     "end_time": "2021-09-29T18:19:12.734155",
     "exception": false,
     "start_time": "2021-09-29T18:18:37.950940",
     "status": "completed"
    },
    "tags": []
   },
   "outputs": [],
   "source": [
    "from sklearn.model_selection import cross_val_predict\n",
    "\n",
    "y_train_pred = cross_val_predict(classifier, X_train, y_train_5, cv = 3)"
   ]
  },
  {
   "cell_type": "code",
   "execution_count": 11,
   "id": "d526f242",
   "metadata": {
    "execution": {
     "iopub.execute_input": "2021-09-29T18:19:12.807966Z",
     "iopub.status.busy": "2021-09-29T18:19:12.805244Z",
     "iopub.status.idle": "2021-09-29T18:19:12.882659Z",
     "shell.execute_reply": "2021-09-29T18:19:12.883151Z",
     "shell.execute_reply.started": "2021-09-29T18:16:31.458495Z"
    },
    "papermill": {
     "duration": 0.114995,
     "end_time": "2021-09-29T18:19:12.883318",
     "exception": false,
     "start_time": "2021-09-29T18:19:12.768323",
     "status": "completed"
    },
    "tags": []
   },
   "outputs": [
    {
     "name": "stdout",
     "output_type": "stream",
     "text": [
      "[[52931  1648]\n",
      " [  922  4499]]\n"
     ]
    }
   ],
   "source": [
    "from sklearn.metrics import confusion_matrix\n",
    "cm = confusion_matrix(y_train_5, y_train_pred)\n",
    "print(cm)"
   ]
  },
  {
   "cell_type": "code",
   "execution_count": null,
   "id": "2b9e74e6",
   "metadata": {
    "papermill": {
     "duration": 0.019415,
     "end_time": "2021-09-29T18:19:12.922314",
     "exception": false,
     "start_time": "2021-09-29T18:19:12.902899",
     "status": "completed"
    },
    "tags": []
   },
   "outputs": [],
   "source": []
  }
 ],
 "metadata": {
  "kernelspec": {
   "display_name": "Python 3",
   "language": "python",
   "name": "python3"
  },
  "language_info": {
   "codemirror_mode": {
    "name": "ipython",
    "version": 3
   },
   "file_extension": ".py",
   "mimetype": "text/x-python",
   "name": "python",
   "nbconvert_exporter": "python",
   "pygments_lexer": "ipython3",
   "version": "3.7.10"
  },
  "papermill": {
   "default_parameters": {},
   "duration": 106.444597,
   "end_time": "2021-09-29T18:19:13.552182",
   "environment_variables": {},
   "exception": null,
   "input_path": "__notebook__.ipynb",
   "output_path": "__notebook__.ipynb",
   "parameters": {},
   "start_time": "2021-09-29T18:17:27.107585",
   "version": "2.3.3"
  }
 },
 "nbformat": 4,
 "nbformat_minor": 5
}
